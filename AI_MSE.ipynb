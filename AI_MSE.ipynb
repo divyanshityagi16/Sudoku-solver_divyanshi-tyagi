{
  "nbformat": 4,
  "nbformat_minor": 0,
  "metadata": {
    "colab": {
      "provenance": []
    },
    "kernelspec": {
      "name": "python3",
      "display_name": "Python 3"
    },
    "language_info": {
      "name": "python"
    }
  },
  "cells": [
    {
      "cell_type": "code",
      "execution_count": 2,
      "metadata": {
        "colab": {
          "base_uri": "https://localhost:8080/"
        },
        "id": "BS2s9GfMhSJ3",
        "outputId": "65035dc3-b8be-4cfa-ad28-1196838defc7"
      },
      "outputs": [
        {
          "output_type": "stream",
          "name": "stdout",
          "text": [
            "Enter the Sudoku puzzle row by row (use 0 for empty cells):\n",
            "Row 1: 5 3 0 0 7 0 0 0 0 \n",
            "Row 2: 6 0 0 1 9 5 0 0 0\n",
            "Row 3: 0 9 8 0 0 0 0 6 0\n",
            "Row 4: 8 0 0 0 6 0 0 0 3\n",
            "Row 5: 4 0 0 8 0 3 0 0 1\n",
            "Row 6: 7 0 0 0 2 0 0 0 6\n",
            "Row 7: 0 6 0 0 0 0 2 8 0 \n",
            "Row 8: 0 0 0 4 1 9 0 0 5\n",
            "Row 9: 0 0 0 0 8 0 0 7 9\n",
            "\n",
            "Sudoku solved successfully!\n",
            "5 3 4 6 7 8 9 1 2\n",
            "6 7 2 1 9 5 3 4 8\n",
            "1 9 8 3 4 2 5 6 7\n",
            "8 5 9 7 6 1 4 2 3\n",
            "4 2 6 8 5 3 7 9 1\n",
            "7 1 3 9 2 4 8 5 6\n",
            "9 6 1 5 3 7 2 8 4\n",
            "2 8 7 4 1 9 6 3 5\n",
            "3 4 5 2 8 6 1 7 9\n"
          ]
        }
      ],
      "source": [
        "def is_valid(board, row, col, num):\n",
        "    # Check if the number is not repeated in the current row, column, or 3x3 grid\n",
        "    for i in range(9):\n",
        "        if board[row][i] == num or board[i][col] == num:\n",
        "            return False\n",
        "\n",
        "    start_row, start_col = 3 * (row // 3), 3 * (col // 3)\n",
        "    for i in range(start_row, start_row + 3):\n",
        "        for j in range(start_col, start_col + 3):\n",
        "            if board[i][j] == num:\n",
        "                return False\n",
        "\n",
        "    return True\n",
        "\n",
        "def solve_sudoku(board):\n",
        "    # Try to find an empty space in the board\n",
        "    for row in range(9):\n",
        "        for col in range(9):\n",
        "            if board[row][col] == 0:  # 0 represents an empty space\n",
        "                for num in range(1, 10):  # Try numbers from 1 to 9\n",
        "                    if is_valid(board, row, col, num):\n",
        "                        board[row][col] = num  # Place the number\n",
        "                        if solve_sudoku(board):  # Recursively try to solve\n",
        "                            return True\n",
        "                        board[row][col] = 0  # Backtrack if not valid\n",
        "                return False  # If no number fits, return False\n",
        "    return True  # Puzzle solved\n",
        "\n",
        "def print_board(board):\n",
        "    for row in board:\n",
        "        print(\" \".join(str(num) for num in row))\n",
        "\n",
        "def get_input():\n",
        "    board = []\n",
        "    print(\"Enter the Sudoku puzzle row by row (use 0 for empty cells):\")\n",
        "    for i in range(9):\n",
        "        while True:\n",
        "            try:\n",
        "                row = list(map(int, input(f\"Row {i + 1}: \").strip().split()))\n",
        "                if len(row) != 9:\n",
        "                    print(\"Each row must contain exactly 9 numbers.\")\n",
        "                else:\n",
        "                    board.append(row)\n",
        "                    break\n",
        "            except ValueError:\n",
        "                print(\"Please enter valid integers.\")\n",
        "    return board\n",
        "\n",
        "# Get user input for the Sudoku board\n",
        "board = get_input()\n",
        "\n",
        "if solve_sudoku(board):\n",
        "    print(\"\\nSudoku solved successfully!\")\n",
        "    print_board(board)\n",
        "else:\n",
        "    print(\"\\nNo solution exists\")\n"
      ]
    }
  ]
}